{
 "cells": [
  {
   "cell_type": "markdown",
   "metadata": {},
   "source": [
    "\n",
    "# Visualizing Earnings Based On College Majors\n",
    "\n",
    "\n",
    "Dataset on the job outcomes of students who graduated from college between 2010 and 2012. The original data on job outcomes was released by American Community Survey, which conducts surveys and aggregates the data. FiveThirtyEight cleaned the dataset and released it on their Github repo.\n",
    "\n",
    "Each row in the dataset represents a different major in college and contains information on gender diversity, employment rates, median salaries, and more. Here are some of the columns in the dataset:\n",
    "\n",
    "Rank - Rank by median earnings (the dataset is ordered by this column)\n",
    "\n",
    "Major_code - Major code\n",
    "\n",
    "Major - Major description\n",
    "\n",
    "Major_category - Category of major\n",
    "\n",
    "Total - Total number of people with major\n",
    "\n",
    "Sample_size - Sample size (unweighted) of full-time\n",
    "\n",
    "Men - Male graduates\n",
    "\n",
    "Women - Female graduates\n",
    "\n",
    "ShareWomen - Women as share of total\n",
    "\n",
    "Employed - Number employed\n",
    "\n",
    "Median - Median salary of full-time, year-round workers\n",
    "\n",
    "Low_wage_jobs - Number in low-wage service jobs\n",
    "\n",
    "Full_time - Number employed 35 hours or more\n",
    "\n",
    "Part_time - Number employed less than 35 hours.\n",
    "\n",
    "\n",
    "### Questions\n",
    "Do students in more popular majors make more money?\n",
    "\n",
    "How many majors are predominantly male? Predominantly female?\n",
    "\n",
    "Which category of majors have the most students?\n"
   ]
  },
  {
   "cell_type": "markdown",
   "metadata": {},
   "source": [
    "### import userful libraries"
   ]
  },
  {
   "cell_type": "code",
   "execution_count": 70,
   "metadata": {},
   "outputs": [],
   "source": [
    "import pandas as pd\n",
    "import matplotlib\n",
    "from matplotlib import pyplot as plt\n",
    "%matplotlib inline\n",
    "import os\n",
    "from IPython.display import display"
   ]
  },
  {
   "cell_type": "markdown",
   "metadata": {},
   "source": [
    "### Read in the data"
   ]
  },
  {
   "cell_type": "code",
   "execution_count": 71,
   "metadata": {},
   "outputs": [
    {
     "data": {
      "text/plain": [
       "'C:\\\\Users\\\\hp\\\\OneDrive\\\\Desktop\\\\DataScience\\\\Projects\\\\Earnings_ByCollegeMajors'"
      ]
     },
     "execution_count": 71,
     "metadata": {},
     "output_type": "execute_result"
    }
   ],
   "source": [
    "os.getcwd()"
   ]
  },
  {
   "cell_type": "code",
   "execution_count": 72,
   "metadata": {},
   "outputs": [],
   "source": [
    "recent_grads = pd.read_csv(\"recent-grads.csv\",\n",
    "                           encoding=\"utf-8-sig\",\n",
    "                           engine='python')"
   ]
  },
  {
   "cell_type": "markdown",
   "metadata": {},
   "source": [
    "### first row of the dataframe"
   ]
  },
  {
   "cell_type": "code",
   "execution_count": 73,
   "metadata": {},
   "outputs": [
    {
     "data": {
      "text/plain": [
       "Rank                                        1\n",
       "Major_code                               2419\n",
       "Major                   PETROLEUM ENGINEERING\n",
       "Total                                    2339\n",
       "Men                                      2057\n",
       "Women                                     282\n",
       "Major_category                    Engineering\n",
       "ShareWomen                           0.120564\n",
       "Sample_size                                36\n",
       "Employed                                 1976\n",
       "Full_time                                1849\n",
       "Part_time                                 270\n",
       "Full_time_year_round                     1207\n",
       "Unemployed                                 37\n",
       "Unemployment_rate                   0.0183805\n",
       "Median                                 110000\n",
       "P25th                                   95000\n",
       "P75th                                  125000\n",
       "College_jobs                             1534\n",
       "Non_college_jobs                          364\n",
       "Low_wage_jobs                             193\n",
       "Name: 0, dtype: object"
      ]
     },
     "metadata": {},
     "output_type": "display_data"
    }
   ],
   "source": [
    "display(recent_grads.iloc[0])"
   ]
  },
  {
   "cell_type": "markdown",
   "metadata": {},
   "source": [
    "### first 5 and last 5 rows"
   ]
  },
  {
   "cell_type": "code",
   "execution_count": 74,
   "metadata": {},
   "outputs": [
    {
     "data": {
      "text/html": [
       "<div>\n",
       "<style scoped>\n",
       "    .dataframe tbody tr th:only-of-type {\n",
       "        vertical-align: middle;\n",
       "    }\n",
       "\n",
       "    .dataframe tbody tr th {\n",
       "        vertical-align: top;\n",
       "    }\n",
       "\n",
       "    .dataframe thead th {\n",
       "        text-align: right;\n",
       "    }\n",
       "</style>\n",
       "<table border=\"1\" class=\"dataframe\">\n",
       "  <thead>\n",
       "    <tr style=\"text-align: right;\">\n",
       "      <th></th>\n",
       "      <th>Rank</th>\n",
       "      <th>Major_code</th>\n",
       "      <th>Major</th>\n",
       "      <th>Total</th>\n",
       "      <th>Men</th>\n",
       "      <th>Women</th>\n",
       "      <th>Major_category</th>\n",
       "      <th>ShareWomen</th>\n",
       "      <th>Sample_size</th>\n",
       "      <th>Employed</th>\n",
       "      <th>...</th>\n",
       "      <th>Part_time</th>\n",
       "      <th>Full_time_year_round</th>\n",
       "      <th>Unemployed</th>\n",
       "      <th>Unemployment_rate</th>\n",
       "      <th>Median</th>\n",
       "      <th>P25th</th>\n",
       "      <th>P75th</th>\n",
       "      <th>College_jobs</th>\n",
       "      <th>Non_college_jobs</th>\n",
       "      <th>Low_wage_jobs</th>\n",
       "    </tr>\n",
       "  </thead>\n",
       "  <tbody>\n",
       "    <tr>\n",
       "      <td>0</td>\n",
       "      <td>1</td>\n",
       "      <td>2419</td>\n",
       "      <td>PETROLEUM ENGINEERING</td>\n",
       "      <td>2339.0</td>\n",
       "      <td>2057.0</td>\n",
       "      <td>282.0</td>\n",
       "      <td>Engineering</td>\n",
       "      <td>0.120564</td>\n",
       "      <td>36</td>\n",
       "      <td>1976</td>\n",
       "      <td>...</td>\n",
       "      <td>270</td>\n",
       "      <td>1207</td>\n",
       "      <td>37</td>\n",
       "      <td>0.018381</td>\n",
       "      <td>110000</td>\n",
       "      <td>95000</td>\n",
       "      <td>125000</td>\n",
       "      <td>1534</td>\n",
       "      <td>364</td>\n",
       "      <td>193</td>\n",
       "    </tr>\n",
       "    <tr>\n",
       "      <td>1</td>\n",
       "      <td>2</td>\n",
       "      <td>2416</td>\n",
       "      <td>MINING AND MINERAL ENGINEERING</td>\n",
       "      <td>756.0</td>\n",
       "      <td>679.0</td>\n",
       "      <td>77.0</td>\n",
       "      <td>Engineering</td>\n",
       "      <td>0.101852</td>\n",
       "      <td>7</td>\n",
       "      <td>640</td>\n",
       "      <td>...</td>\n",
       "      <td>170</td>\n",
       "      <td>388</td>\n",
       "      <td>85</td>\n",
       "      <td>0.117241</td>\n",
       "      <td>75000</td>\n",
       "      <td>55000</td>\n",
       "      <td>90000</td>\n",
       "      <td>350</td>\n",
       "      <td>257</td>\n",
       "      <td>50</td>\n",
       "    </tr>\n",
       "    <tr>\n",
       "      <td>2</td>\n",
       "      <td>3</td>\n",
       "      <td>2415</td>\n",
       "      <td>METALLURGICAL ENGINEERING</td>\n",
       "      <td>856.0</td>\n",
       "      <td>725.0</td>\n",
       "      <td>131.0</td>\n",
       "      <td>Engineering</td>\n",
       "      <td>0.153037</td>\n",
       "      <td>3</td>\n",
       "      <td>648</td>\n",
       "      <td>...</td>\n",
       "      <td>133</td>\n",
       "      <td>340</td>\n",
       "      <td>16</td>\n",
       "      <td>0.024096</td>\n",
       "      <td>73000</td>\n",
       "      <td>50000</td>\n",
       "      <td>105000</td>\n",
       "      <td>456</td>\n",
       "      <td>176</td>\n",
       "      <td>0</td>\n",
       "    </tr>\n",
       "    <tr>\n",
       "      <td>3</td>\n",
       "      <td>4</td>\n",
       "      <td>2417</td>\n",
       "      <td>NAVAL ARCHITECTURE AND MARINE ENGINEERING</td>\n",
       "      <td>1258.0</td>\n",
       "      <td>1123.0</td>\n",
       "      <td>135.0</td>\n",
       "      <td>Engineering</td>\n",
       "      <td>0.107313</td>\n",
       "      <td>16</td>\n",
       "      <td>758</td>\n",
       "      <td>...</td>\n",
       "      <td>150</td>\n",
       "      <td>692</td>\n",
       "      <td>40</td>\n",
       "      <td>0.050125</td>\n",
       "      <td>70000</td>\n",
       "      <td>43000</td>\n",
       "      <td>80000</td>\n",
       "      <td>529</td>\n",
       "      <td>102</td>\n",
       "      <td>0</td>\n",
       "    </tr>\n",
       "    <tr>\n",
       "      <td>4</td>\n",
       "      <td>5</td>\n",
       "      <td>2405</td>\n",
       "      <td>CHEMICAL ENGINEERING</td>\n",
       "      <td>32260.0</td>\n",
       "      <td>21239.0</td>\n",
       "      <td>11021.0</td>\n",
       "      <td>Engineering</td>\n",
       "      <td>0.341631</td>\n",
       "      <td>289</td>\n",
       "      <td>25694</td>\n",
       "      <td>...</td>\n",
       "      <td>5180</td>\n",
       "      <td>16697</td>\n",
       "      <td>1672</td>\n",
       "      <td>0.061098</td>\n",
       "      <td>65000</td>\n",
       "      <td>50000</td>\n",
       "      <td>75000</td>\n",
       "      <td>18314</td>\n",
       "      <td>4440</td>\n",
       "      <td>972</td>\n",
       "    </tr>\n",
       "  </tbody>\n",
       "</table>\n",
       "<p>5 rows × 21 columns</p>\n",
       "</div>"
      ],
      "text/plain": [
       "   Rank  Major_code                                      Major    Total  \\\n",
       "0     1        2419                      PETROLEUM ENGINEERING   2339.0   \n",
       "1     2        2416             MINING AND MINERAL ENGINEERING    756.0   \n",
       "2     3        2415                  METALLURGICAL ENGINEERING    856.0   \n",
       "3     4        2417  NAVAL ARCHITECTURE AND MARINE ENGINEERING   1258.0   \n",
       "4     5        2405                       CHEMICAL ENGINEERING  32260.0   \n",
       "\n",
       "       Men    Women Major_category  ShareWomen  Sample_size  Employed  ...  \\\n",
       "0   2057.0    282.0    Engineering    0.120564           36      1976  ...   \n",
       "1    679.0     77.0    Engineering    0.101852            7       640  ...   \n",
       "2    725.0    131.0    Engineering    0.153037            3       648  ...   \n",
       "3   1123.0    135.0    Engineering    0.107313           16       758  ...   \n",
       "4  21239.0  11021.0    Engineering    0.341631          289     25694  ...   \n",
       "\n",
       "   Part_time  Full_time_year_round  Unemployed  Unemployment_rate  Median  \\\n",
       "0        270                  1207          37           0.018381  110000   \n",
       "1        170                   388          85           0.117241   75000   \n",
       "2        133                   340          16           0.024096   73000   \n",
       "3        150                   692          40           0.050125   70000   \n",
       "4       5180                 16697        1672           0.061098   65000   \n",
       "\n",
       "   P25th   P75th  College_jobs  Non_college_jobs  Low_wage_jobs  \n",
       "0  95000  125000          1534               364            193  \n",
       "1  55000   90000           350               257             50  \n",
       "2  50000  105000           456               176              0  \n",
       "3  43000   80000           529               102              0  \n",
       "4  50000   75000         18314              4440            972  \n",
       "\n",
       "[5 rows x 21 columns]"
      ]
     },
     "metadata": {},
     "output_type": "display_data"
    },
    {
     "name": "stdout",
     "output_type": "stream",
     "text": [
      "\n",
      "\n"
     ]
    },
    {
     "data": {
      "text/html": [
       "<div>\n",
       "<style scoped>\n",
       "    .dataframe tbody tr th:only-of-type {\n",
       "        vertical-align: middle;\n",
       "    }\n",
       "\n",
       "    .dataframe tbody tr th {\n",
       "        vertical-align: top;\n",
       "    }\n",
       "\n",
       "    .dataframe thead th {\n",
       "        text-align: right;\n",
       "    }\n",
       "</style>\n",
       "<table border=\"1\" class=\"dataframe\">\n",
       "  <thead>\n",
       "    <tr style=\"text-align: right;\">\n",
       "      <th></th>\n",
       "      <th>Rank</th>\n",
       "      <th>Major_code</th>\n",
       "      <th>Major</th>\n",
       "      <th>Total</th>\n",
       "      <th>Men</th>\n",
       "      <th>Women</th>\n",
       "      <th>Major_category</th>\n",
       "      <th>ShareWomen</th>\n",
       "      <th>Sample_size</th>\n",
       "      <th>Employed</th>\n",
       "      <th>...</th>\n",
       "      <th>Part_time</th>\n",
       "      <th>Full_time_year_round</th>\n",
       "      <th>Unemployed</th>\n",
       "      <th>Unemployment_rate</th>\n",
       "      <th>Median</th>\n",
       "      <th>P25th</th>\n",
       "      <th>P75th</th>\n",
       "      <th>College_jobs</th>\n",
       "      <th>Non_college_jobs</th>\n",
       "      <th>Low_wage_jobs</th>\n",
       "    </tr>\n",
       "  </thead>\n",
       "  <tbody>\n",
       "    <tr>\n",
       "      <td>168</td>\n",
       "      <td>169</td>\n",
       "      <td>3609</td>\n",
       "      <td>ZOOLOGY</td>\n",
       "      <td>8409.0</td>\n",
       "      <td>3050.0</td>\n",
       "      <td>5359.0</td>\n",
       "      <td>Biology &amp; Life Science</td>\n",
       "      <td>0.637293</td>\n",
       "      <td>47</td>\n",
       "      <td>6259</td>\n",
       "      <td>...</td>\n",
       "      <td>2190</td>\n",
       "      <td>3602</td>\n",
       "      <td>304</td>\n",
       "      <td>0.046320</td>\n",
       "      <td>26000</td>\n",
       "      <td>20000</td>\n",
       "      <td>39000</td>\n",
       "      <td>2771</td>\n",
       "      <td>2947</td>\n",
       "      <td>743</td>\n",
       "    </tr>\n",
       "    <tr>\n",
       "      <td>169</td>\n",
       "      <td>170</td>\n",
       "      <td>5201</td>\n",
       "      <td>EDUCATIONAL PSYCHOLOGY</td>\n",
       "      <td>2854.0</td>\n",
       "      <td>522.0</td>\n",
       "      <td>2332.0</td>\n",
       "      <td>Psychology &amp; Social Work</td>\n",
       "      <td>0.817099</td>\n",
       "      <td>7</td>\n",
       "      <td>2125</td>\n",
       "      <td>...</td>\n",
       "      <td>572</td>\n",
       "      <td>1211</td>\n",
       "      <td>148</td>\n",
       "      <td>0.065112</td>\n",
       "      <td>25000</td>\n",
       "      <td>24000</td>\n",
       "      <td>34000</td>\n",
       "      <td>1488</td>\n",
       "      <td>615</td>\n",
       "      <td>82</td>\n",
       "    </tr>\n",
       "    <tr>\n",
       "      <td>170</td>\n",
       "      <td>171</td>\n",
       "      <td>5202</td>\n",
       "      <td>CLINICAL PSYCHOLOGY</td>\n",
       "      <td>2838.0</td>\n",
       "      <td>568.0</td>\n",
       "      <td>2270.0</td>\n",
       "      <td>Psychology &amp; Social Work</td>\n",
       "      <td>0.799859</td>\n",
       "      <td>13</td>\n",
       "      <td>2101</td>\n",
       "      <td>...</td>\n",
       "      <td>648</td>\n",
       "      <td>1293</td>\n",
       "      <td>368</td>\n",
       "      <td>0.149048</td>\n",
       "      <td>25000</td>\n",
       "      <td>25000</td>\n",
       "      <td>40000</td>\n",
       "      <td>986</td>\n",
       "      <td>870</td>\n",
       "      <td>622</td>\n",
       "    </tr>\n",
       "    <tr>\n",
       "      <td>171</td>\n",
       "      <td>172</td>\n",
       "      <td>5203</td>\n",
       "      <td>COUNSELING PSYCHOLOGY</td>\n",
       "      <td>4626.0</td>\n",
       "      <td>931.0</td>\n",
       "      <td>3695.0</td>\n",
       "      <td>Psychology &amp; Social Work</td>\n",
       "      <td>0.798746</td>\n",
       "      <td>21</td>\n",
       "      <td>3777</td>\n",
       "      <td>...</td>\n",
       "      <td>965</td>\n",
       "      <td>2738</td>\n",
       "      <td>214</td>\n",
       "      <td>0.053621</td>\n",
       "      <td>23400</td>\n",
       "      <td>19200</td>\n",
       "      <td>26000</td>\n",
       "      <td>2403</td>\n",
       "      <td>1245</td>\n",
       "      <td>308</td>\n",
       "    </tr>\n",
       "    <tr>\n",
       "      <td>172</td>\n",
       "      <td>173</td>\n",
       "      <td>3501</td>\n",
       "      <td>LIBRARY SCIENCE</td>\n",
       "      <td>1098.0</td>\n",
       "      <td>134.0</td>\n",
       "      <td>964.0</td>\n",
       "      <td>Education</td>\n",
       "      <td>0.877960</td>\n",
       "      <td>2</td>\n",
       "      <td>742</td>\n",
       "      <td>...</td>\n",
       "      <td>237</td>\n",
       "      <td>410</td>\n",
       "      <td>87</td>\n",
       "      <td>0.104946</td>\n",
       "      <td>22000</td>\n",
       "      <td>20000</td>\n",
       "      <td>22000</td>\n",
       "      <td>288</td>\n",
       "      <td>338</td>\n",
       "      <td>192</td>\n",
       "    </tr>\n",
       "  </tbody>\n",
       "</table>\n",
       "<p>5 rows × 21 columns</p>\n",
       "</div>"
      ],
      "text/plain": [
       "     Rank  Major_code                   Major   Total     Men   Women  \\\n",
       "168   169        3609                 ZOOLOGY  8409.0  3050.0  5359.0   \n",
       "169   170        5201  EDUCATIONAL PSYCHOLOGY  2854.0   522.0  2332.0   \n",
       "170   171        5202     CLINICAL PSYCHOLOGY  2838.0   568.0  2270.0   \n",
       "171   172        5203   COUNSELING PSYCHOLOGY  4626.0   931.0  3695.0   \n",
       "172   173        3501         LIBRARY SCIENCE  1098.0   134.0   964.0   \n",
       "\n",
       "               Major_category  ShareWomen  Sample_size  Employed  ...  \\\n",
       "168    Biology & Life Science    0.637293           47      6259  ...   \n",
       "169  Psychology & Social Work    0.817099            7      2125  ...   \n",
       "170  Psychology & Social Work    0.799859           13      2101  ...   \n",
       "171  Psychology & Social Work    0.798746           21      3777  ...   \n",
       "172                 Education    0.877960            2       742  ...   \n",
       "\n",
       "     Part_time  Full_time_year_round  Unemployed  Unemployment_rate  Median  \\\n",
       "168       2190                  3602         304           0.046320   26000   \n",
       "169        572                  1211         148           0.065112   25000   \n",
       "170        648                  1293         368           0.149048   25000   \n",
       "171        965                  2738         214           0.053621   23400   \n",
       "172        237                   410          87           0.104946   22000   \n",
       "\n",
       "     P25th  P75th  College_jobs  Non_college_jobs  Low_wage_jobs  \n",
       "168  20000  39000          2771              2947            743  \n",
       "169  24000  34000          1488               615             82  \n",
       "170  25000  40000           986               870            622  \n",
       "171  19200  26000          2403              1245            308  \n",
       "172  20000  22000           288               338            192  \n",
       "\n",
       "[5 rows x 21 columns]"
      ]
     },
     "metadata": {},
     "output_type": "display_data"
    }
   ],
   "source": [
    "display(recent_grads.head())\n",
    "print('\\n')\n",
    "display(recent_grads.tail())"
   ]
  },
  {
   "cell_type": "markdown",
   "metadata": {},
   "source": [
    "### Summary satatistics"
   ]
  },
  {
   "cell_type": "code",
   "execution_count": 75,
   "metadata": {},
   "outputs": [
    {
     "data": {
      "text/html": [
       "<div>\n",
       "<style scoped>\n",
       "    .dataframe tbody tr th:only-of-type {\n",
       "        vertical-align: middle;\n",
       "    }\n",
       "\n",
       "    .dataframe tbody tr th {\n",
       "        vertical-align: top;\n",
       "    }\n",
       "\n",
       "    .dataframe thead th {\n",
       "        text-align: right;\n",
       "    }\n",
       "</style>\n",
       "<table border=\"1\" class=\"dataframe\">\n",
       "  <thead>\n",
       "    <tr style=\"text-align: right;\">\n",
       "      <th></th>\n",
       "      <th>Rank</th>\n",
       "      <th>Major_code</th>\n",
       "      <th>Total</th>\n",
       "      <th>Men</th>\n",
       "      <th>Women</th>\n",
       "      <th>ShareWomen</th>\n",
       "      <th>Sample_size</th>\n",
       "      <th>Employed</th>\n",
       "      <th>Full_time</th>\n",
       "      <th>Part_time</th>\n",
       "      <th>Full_time_year_round</th>\n",
       "      <th>Unemployed</th>\n",
       "      <th>Unemployment_rate</th>\n",
       "      <th>Median</th>\n",
       "      <th>P25th</th>\n",
       "      <th>P75th</th>\n",
       "      <th>College_jobs</th>\n",
       "      <th>Non_college_jobs</th>\n",
       "      <th>Low_wage_jobs</th>\n",
       "    </tr>\n",
       "  </thead>\n",
       "  <tbody>\n",
       "    <tr>\n",
       "      <td>count</td>\n",
       "      <td>173.000000</td>\n",
       "      <td>173.000000</td>\n",
       "      <td>172.000000</td>\n",
       "      <td>172.000000</td>\n",
       "      <td>172.000000</td>\n",
       "      <td>172.000000</td>\n",
       "      <td>173.000000</td>\n",
       "      <td>173.000000</td>\n",
       "      <td>173.000000</td>\n",
       "      <td>173.000000</td>\n",
       "      <td>173.000000</td>\n",
       "      <td>173.000000</td>\n",
       "      <td>173.000000</td>\n",
       "      <td>173.000000</td>\n",
       "      <td>173.000000</td>\n",
       "      <td>173.000000</td>\n",
       "      <td>173.000000</td>\n",
       "      <td>173.000000</td>\n",
       "      <td>173.000000</td>\n",
       "    </tr>\n",
       "    <tr>\n",
       "      <td>mean</td>\n",
       "      <td>87.000000</td>\n",
       "      <td>3879.815029</td>\n",
       "      <td>39370.081395</td>\n",
       "      <td>16723.406977</td>\n",
       "      <td>22646.674419</td>\n",
       "      <td>0.522223</td>\n",
       "      <td>356.080925</td>\n",
       "      <td>31192.763006</td>\n",
       "      <td>26029.306358</td>\n",
       "      <td>8832.398844</td>\n",
       "      <td>19694.427746</td>\n",
       "      <td>2416.329480</td>\n",
       "      <td>0.068191</td>\n",
       "      <td>40151.445087</td>\n",
       "      <td>29501.445087</td>\n",
       "      <td>51494.219653</td>\n",
       "      <td>12322.635838</td>\n",
       "      <td>13284.497110</td>\n",
       "      <td>3859.017341</td>\n",
       "    </tr>\n",
       "    <tr>\n",
       "      <td>std</td>\n",
       "      <td>50.084928</td>\n",
       "      <td>1687.753140</td>\n",
       "      <td>63483.491009</td>\n",
       "      <td>28122.433474</td>\n",
       "      <td>41057.330740</td>\n",
       "      <td>0.231205</td>\n",
       "      <td>618.361022</td>\n",
       "      <td>50675.002241</td>\n",
       "      <td>42869.655092</td>\n",
       "      <td>14648.179473</td>\n",
       "      <td>33160.941514</td>\n",
       "      <td>4112.803148</td>\n",
       "      <td>0.030331</td>\n",
       "      <td>11470.181802</td>\n",
       "      <td>9166.005235</td>\n",
       "      <td>14906.279740</td>\n",
       "      <td>21299.868863</td>\n",
       "      <td>23789.655363</td>\n",
       "      <td>6944.998579</td>\n",
       "    </tr>\n",
       "    <tr>\n",
       "      <td>min</td>\n",
       "      <td>1.000000</td>\n",
       "      <td>1100.000000</td>\n",
       "      <td>124.000000</td>\n",
       "      <td>119.000000</td>\n",
       "      <td>0.000000</td>\n",
       "      <td>0.000000</td>\n",
       "      <td>2.000000</td>\n",
       "      <td>0.000000</td>\n",
       "      <td>111.000000</td>\n",
       "      <td>0.000000</td>\n",
       "      <td>111.000000</td>\n",
       "      <td>0.000000</td>\n",
       "      <td>0.000000</td>\n",
       "      <td>22000.000000</td>\n",
       "      <td>18500.000000</td>\n",
       "      <td>22000.000000</td>\n",
       "      <td>0.000000</td>\n",
       "      <td>0.000000</td>\n",
       "      <td>0.000000</td>\n",
       "    </tr>\n",
       "    <tr>\n",
       "      <td>25%</td>\n",
       "      <td>44.000000</td>\n",
       "      <td>2403.000000</td>\n",
       "      <td>4549.750000</td>\n",
       "      <td>2177.500000</td>\n",
       "      <td>1778.250000</td>\n",
       "      <td>0.336026</td>\n",
       "      <td>39.000000</td>\n",
       "      <td>3608.000000</td>\n",
       "      <td>3154.000000</td>\n",
       "      <td>1030.000000</td>\n",
       "      <td>2453.000000</td>\n",
       "      <td>304.000000</td>\n",
       "      <td>0.050306</td>\n",
       "      <td>33000.000000</td>\n",
       "      <td>24000.000000</td>\n",
       "      <td>42000.000000</td>\n",
       "      <td>1675.000000</td>\n",
       "      <td>1591.000000</td>\n",
       "      <td>340.000000</td>\n",
       "    </tr>\n",
       "    <tr>\n",
       "      <td>50%</td>\n",
       "      <td>87.000000</td>\n",
       "      <td>3608.000000</td>\n",
       "      <td>15104.000000</td>\n",
       "      <td>5434.000000</td>\n",
       "      <td>8386.500000</td>\n",
       "      <td>0.534024</td>\n",
       "      <td>130.000000</td>\n",
       "      <td>11797.000000</td>\n",
       "      <td>10048.000000</td>\n",
       "      <td>3299.000000</td>\n",
       "      <td>7413.000000</td>\n",
       "      <td>893.000000</td>\n",
       "      <td>0.067961</td>\n",
       "      <td>36000.000000</td>\n",
       "      <td>27000.000000</td>\n",
       "      <td>47000.000000</td>\n",
       "      <td>4390.000000</td>\n",
       "      <td>4595.000000</td>\n",
       "      <td>1231.000000</td>\n",
       "    </tr>\n",
       "    <tr>\n",
       "      <td>75%</td>\n",
       "      <td>130.000000</td>\n",
       "      <td>5503.000000</td>\n",
       "      <td>38909.750000</td>\n",
       "      <td>14631.000000</td>\n",
       "      <td>22553.750000</td>\n",
       "      <td>0.703299</td>\n",
       "      <td>338.000000</td>\n",
       "      <td>31433.000000</td>\n",
       "      <td>25147.000000</td>\n",
       "      <td>9948.000000</td>\n",
       "      <td>16891.000000</td>\n",
       "      <td>2393.000000</td>\n",
       "      <td>0.087557</td>\n",
       "      <td>45000.000000</td>\n",
       "      <td>33000.000000</td>\n",
       "      <td>60000.000000</td>\n",
       "      <td>14444.000000</td>\n",
       "      <td>11783.000000</td>\n",
       "      <td>3466.000000</td>\n",
       "    </tr>\n",
       "    <tr>\n",
       "      <td>max</td>\n",
       "      <td>173.000000</td>\n",
       "      <td>6403.000000</td>\n",
       "      <td>393735.000000</td>\n",
       "      <td>173809.000000</td>\n",
       "      <td>307087.000000</td>\n",
       "      <td>0.968954</td>\n",
       "      <td>4212.000000</td>\n",
       "      <td>307933.000000</td>\n",
       "      <td>251540.000000</td>\n",
       "      <td>115172.000000</td>\n",
       "      <td>199897.000000</td>\n",
       "      <td>28169.000000</td>\n",
       "      <td>0.177226</td>\n",
       "      <td>110000.000000</td>\n",
       "      <td>95000.000000</td>\n",
       "      <td>125000.000000</td>\n",
       "      <td>151643.000000</td>\n",
       "      <td>148395.000000</td>\n",
       "      <td>48207.000000</td>\n",
       "    </tr>\n",
       "  </tbody>\n",
       "</table>\n",
       "</div>"
      ],
      "text/plain": [
       "             Rank   Major_code          Total            Men          Women  \\\n",
       "count  173.000000   173.000000     172.000000     172.000000     172.000000   \n",
       "mean    87.000000  3879.815029   39370.081395   16723.406977   22646.674419   \n",
       "std     50.084928  1687.753140   63483.491009   28122.433474   41057.330740   \n",
       "min      1.000000  1100.000000     124.000000     119.000000       0.000000   \n",
       "25%     44.000000  2403.000000    4549.750000    2177.500000    1778.250000   \n",
       "50%     87.000000  3608.000000   15104.000000    5434.000000    8386.500000   \n",
       "75%    130.000000  5503.000000   38909.750000   14631.000000   22553.750000   \n",
       "max    173.000000  6403.000000  393735.000000  173809.000000  307087.000000   \n",
       "\n",
       "       ShareWomen  Sample_size       Employed      Full_time      Part_time  \\\n",
       "count  172.000000   173.000000     173.000000     173.000000     173.000000   \n",
       "mean     0.522223   356.080925   31192.763006   26029.306358    8832.398844   \n",
       "std      0.231205   618.361022   50675.002241   42869.655092   14648.179473   \n",
       "min      0.000000     2.000000       0.000000     111.000000       0.000000   \n",
       "25%      0.336026    39.000000    3608.000000    3154.000000    1030.000000   \n",
       "50%      0.534024   130.000000   11797.000000   10048.000000    3299.000000   \n",
       "75%      0.703299   338.000000   31433.000000   25147.000000    9948.000000   \n",
       "max      0.968954  4212.000000  307933.000000  251540.000000  115172.000000   \n",
       "\n",
       "       Full_time_year_round    Unemployed  Unemployment_rate         Median  \\\n",
       "count            173.000000    173.000000         173.000000     173.000000   \n",
       "mean           19694.427746   2416.329480           0.068191   40151.445087   \n",
       "std            33160.941514   4112.803148           0.030331   11470.181802   \n",
       "min              111.000000      0.000000           0.000000   22000.000000   \n",
       "25%             2453.000000    304.000000           0.050306   33000.000000   \n",
       "50%             7413.000000    893.000000           0.067961   36000.000000   \n",
       "75%            16891.000000   2393.000000           0.087557   45000.000000   \n",
       "max           199897.000000  28169.000000           0.177226  110000.000000   \n",
       "\n",
       "              P25th          P75th   College_jobs  Non_college_jobs  \\\n",
       "count    173.000000     173.000000     173.000000        173.000000   \n",
       "mean   29501.445087   51494.219653   12322.635838      13284.497110   \n",
       "std     9166.005235   14906.279740   21299.868863      23789.655363   \n",
       "min    18500.000000   22000.000000       0.000000          0.000000   \n",
       "25%    24000.000000   42000.000000    1675.000000       1591.000000   \n",
       "50%    27000.000000   47000.000000    4390.000000       4595.000000   \n",
       "75%    33000.000000   60000.000000   14444.000000      11783.000000   \n",
       "max    95000.000000  125000.000000  151643.000000     148395.000000   \n",
       "\n",
       "       Low_wage_jobs  \n",
       "count     173.000000  \n",
       "mean     3859.017341  \n",
       "std      6944.998579  \n",
       "min         0.000000  \n",
       "25%       340.000000  \n",
       "50%      1231.000000  \n",
       "75%      3466.000000  \n",
       "max     48207.000000  "
      ]
     },
     "metadata": {},
     "output_type": "display_data"
    }
   ],
   "source": [
    "display(recent_grads.describe())"
   ]
  },
  {
   "cell_type": "markdown",
   "metadata": {},
   "source": [
    "### Dropping rows with missing values"
   ]
  },
  {
   "cell_type": "code",
   "execution_count": 76,
   "metadata": {},
   "outputs": [
    {
     "data": {
      "text/plain": [
       "173"
      ]
     },
     "execution_count": 76,
     "metadata": {},
     "output_type": "execute_result"
    }
   ],
   "source": [
    "#No. of rows before dropping rows with nan\n",
    "len(recent_grads)"
   ]
  },
  {
   "cell_type": "code",
   "execution_count": 77,
   "metadata": {},
   "outputs": [],
   "source": [
    "recent_grads=recent_grads.dropna()"
   ]
  },
  {
   "cell_type": "code",
   "execution_count": 78,
   "metadata": {},
   "outputs": [
    {
     "data": {
      "text/plain": [
       "172"
      ]
     },
     "execution_count": 78,
     "metadata": {},
     "output_type": "execute_result"
    }
   ],
   "source": [
    "#No. of rows after dropping rows with nan\n",
    "len(recent_grads)"
   ]
  },
  {
   "cell_type": "code",
   "execution_count": 79,
   "metadata": {},
   "outputs": [
    {
     "name": "stdout",
     "output_type": "stream",
     "text": [
      "Rank                      int64\n",
      "Major_code                int64\n",
      "Major                    object\n",
      "Total                   float64\n",
      "Men                     float64\n",
      "Women                   float64\n",
      "Major_category           object\n",
      "ShareWomen              float64\n",
      "Sample_size               int64\n",
      "Employed                  int64\n",
      "Full_time                 int64\n",
      "Part_time                 int64\n",
      "Full_time_year_round      int64\n",
      "Unemployed                int64\n",
      "Unemployment_rate       float64\n",
      "Median                    int64\n",
      "P25th                     int64\n",
      "P75th                     int64\n",
      "College_jobs              int64\n",
      "Non_college_jobs          int64\n",
      "Low_wage_jobs             int64\n",
      "dtype: object\n"
     ]
    }
   ],
   "source": [
    "print(recent_grads.dtypes)"
   ]
  },
  {
   "cell_type": "markdown",
   "metadata": {},
   "source": [
    "## Do students in more popular majors make more money?"
   ]
  },
  {
   "cell_type": "code",
   "execution_count": 80,
   "metadata": {},
   "outputs": [
    {
     "data": {
      "text/plain": [
       "<matplotlib.axes._subplots.AxesSubplot at 0x2a128f1f308>"
      ]
     },
     "execution_count": 80,
     "metadata": {},
     "output_type": "execute_result"
    },
    {
     "data": {
      "image/png": "[encoded data removed]",
      "text/plain": [
       "<Figure size 432x288 with 1 Axes>"
      ]
     },
     "metadata": {
      "needs_background": "light"
     },
     "output_type": "display_data"
    }
   ],
   "source": [
    "recent_grads.plot(x='Sample_size', y='Median',kind='scatter')"
   ]
  },
  {
   "cell_type": "code",
   "execution_count": 81,
   "metadata": {},
   "outputs": [
    {
     "data": {
      "text/plain": [
       "count       172.000000\n",
       "mean      40076.744186\n",
       "std       11461.388773\n",
       "min       22000.000000\n",
       "25%       33000.000000\n",
       "50%       36000.000000\n",
       "75%       45000.000000\n",
       "max      110000.000000\n",
       "Name: Median, dtype: float64"
      ]
     },
     "execution_count": 81,
     "metadata": {},
     "output_type": "execute_result"
    }
   ],
   "source": [
    "recent_grads['Median'].describe()"
   ]
  },
  {
   "cell_type": "code",
   "execution_count": 82,
   "metadata": {},
   "outputs": [
    {
     "data": {
      "text/plain": [
       "Medium    131\n",
       "High       26\n",
       "Low        15\n",
       "Name: Salary_Category, dtype: int64"
      ]
     },
     "execution_count": 82,
     "metadata": {},
     "output_type": "execute_result"
    }
   ],
   "source": [
    "salaries=[]\n",
    "for salary in recent_grads['Median'].to_list():\n",
    "    if salary<30000:\n",
    "        salaries.append('Low')\n",
    "    elif salary>30000 and salary<=55000:\n",
    "        salaries.append('Medium')\n",
    "    else:\n",
    "        salaries.append('High')\n",
    "len(salaries)\n",
    "recent_grads['Salary_Category']=salaries\n",
    "recent_grads['Salary_Category'].value_counts()"
   ]
  },
  {
   "cell_type": "code",
   "execution_count": 83,
   "metadata": {},
   "outputs": [
    {
     "data": {
      "text/plain": [
       "count     172.000000\n",
       "mean      357.941860\n",
       "std       619.680419\n",
       "min         2.000000\n",
       "25%        42.000000\n",
       "50%       131.000000\n",
       "75%       339.000000\n",
       "max      4212.000000\n",
       "Name: Sample_size, dtype: float64"
      ]
     },
     "execution_count": 83,
     "metadata": {},
     "output_type": "execute_result"
    }
   ],
   "source": [
    "recent_grads['Sample_size'].describe()"
   ]
  },
  {
   "cell_type": "code",
   "execution_count": 84,
   "metadata": {},
   "outputs": [
    {
     "data": {
      "text/plain": [
       "Medium       77\n",
       "Unpopular    75\n",
       "Popular      20\n",
       "Name: Size_Category, dtype: int64"
      ]
     },
     "execution_count": 84,
     "metadata": {},
     "output_type": "execute_result"
    }
   ],
   "source": [
    "sizes=[]\n",
    "for size in recent_grads['Sample_size'].to_list():\n",
    "    if size<100:\n",
    "        sizes.append('Unpopular')\n",
    "    elif size>100 and size<=1000:\n",
    "        sizes.append('Medium')\n",
    "    else:\n",
    "        sizes.append('Popular')\n",
    "len(sizes)\n",
    "recent_grads['Size_Category']=sizes\n",
    "recent_grads['Size_Category'].value_counts()"
   ]
  },
  {
   "cell_type": "code",
   "execution_count": 85,
   "metadata": {},
   "outputs": [
    {
     "data": {
      "text/plain": [
       "Medium    19\n",
       "High       1\n",
       "Name: Salary_Category, dtype: int64"
      ]
     },
     "execution_count": 85,
     "metadata": {},
     "output_type": "execute_result"
    }
   ],
   "source": [
    "for_pop_majors=recent_grads[recent_grads['Size_Category']=='Popular']\n",
    "for_pop_majors['Salary_Category'].value_counts()"
   ]
  },
  {
   "cell_type": "markdown",
   "metadata": {},
   "source": [
    "Only 1 student categorized to be from a popular major has a high salary. As shown on the scatterplot also Students in more popular majors do not necessarily make more money; majors with high sample size(representation) seem to have median salaries somewhere in the middle"
   ]
  },
  {
   "cell_type": "markdown",
   "metadata": {},
   "source": [
    "## How many majors are predominantly male? Predominantly female?"
   ]
  },
  {
   "cell_type": "code",
   "execution_count": 86,
   "metadata": {
    "scrolled": true
   },
   "outputs": [
    {
     "data": {
      "text/plain": [
       "['PETROLEUM ENGINEERING',\n",
       " 'MINING AND MINERAL ENGINEERING',\n",
       " 'METALLURGICAL ENGINEERING',\n",
       " 'NAVAL ARCHITECTURE AND MARINE ENGINEERING',\n",
       " 'CHEMICAL ENGINEERING',\n",
       " 'NUCLEAR ENGINEERING',\n",
       " 'ACTUARIAL SCIENCE',\n",
       " 'MECHANICAL ENGINEERING',\n",
       " 'ELECTRICAL ENGINEERING',\n",
       " 'COMPUTER ENGINEERING',\n",
       " 'AEROSPACE ENGINEERING',\n",
       " 'BIOMEDICAL ENGINEERING',\n",
       " 'MATERIALS SCIENCE',\n",
       " 'ENGINEERING MECHANICS PHYSICS AND SCIENCE',\n",
       " 'BIOLOGICAL ENGINEERING',\n",
       " 'INDUSTRIAL AND MANUFACTURING ENGINEERING',\n",
       " 'GENERAL ENGINEERING',\n",
       " 'ARCHITECTURAL ENGINEERING',\n",
       " 'COURT REPORTING',\n",
       " 'COMPUTER SCIENCE',\n",
       " 'ELECTRICAL ENGINEERING TECHNOLOGY',\n",
       " 'MATERIALS ENGINEERING AND MATERIALS SCIENCE',\n",
       " 'MANAGEMENT INFORMATION SYSTEMS AND STATISTICS',\n",
       " 'CIVIL ENGINEERING',\n",
       " 'CONSTRUCTION SERVICES',\n",
       " 'OPERATIONS LOGISTICS AND E-COMMERCE',\n",
       " 'MISCELLANEOUS ENGINEERING',\n",
       " 'ENVIRONMENTAL ENGINEERING',\n",
       " 'ENGINEERING TECHNOLOGIES',\n",
       " 'MISCELLANEOUS FINE ARTS',\n",
       " 'GEOLOGICAL AND GEOPHYSICAL ENGINEERING',\n",
       " 'FINANCE',\n",
       " 'ECONOMICS',\n",
       " 'BUSINESS ECONOMICS',\n",
       " 'INDUSTRIAL PRODUCTION TECHNOLOGIES',\n",
       " 'MATHEMATICS',\n",
       " 'COMPUTER AND INFORMATION SYSTEMS',\n",
       " 'PHYSICS',\n",
       " 'INFORMATION SCIENCES',\n",
       " 'APPLIED MATHEMATICS',\n",
       " 'ENGINEERING AND INDUSTRIAL MANAGEMENT',\n",
       " 'MATHEMATICS AND COMPUTER SCIENCE',\n",
       " 'COMPUTER PROGRAMMING AND DATA PROCESSING',\n",
       " 'GENERAL BUSINESS',\n",
       " 'ARCHITECTURE',\n",
       " 'MISCELLANEOUS BUSINESS & MEDICAL ADMINISTRATION',\n",
       " 'AGRICULTURE PRODUCTION AND MANAGEMENT',\n",
       " 'GENERAL AGRICULTURE',\n",
       " 'MISCELLANEOUS ENGINEERING TECHNOLOGIES',\n",
       " 'MECHANICAL ENGINEERING RELATED TECHNOLOGIES',\n",
       " 'UNITED STATES HISTORY',\n",
       " 'AGRICULTURAL ECONOMICS',\n",
       " 'PHYSICAL SCIENCES',\n",
       " 'MILITARY TECHNOLOGIES',\n",
       " 'ELECTRICAL, MECHANICAL, AND PRECISION TECHNOLOGIES AND PRODUCTION',\n",
       " 'BUSINESS MANAGEMENT AND ADMINISTRATION',\n",
       " 'POLITICAL SCIENCE AND GOVERNMENT',\n",
       " 'GEOGRAPHY',\n",
       " 'COMPUTER ADMINISTRATION MANAGEMENT AND SECURITY',\n",
       " 'COMPUTER NETWORKING AND TELECOMMUNICATIONS',\n",
       " 'GEOLOGY AND EARTH SCIENCE',\n",
       " 'PUBLIC ADMINISTRATION',\n",
       " 'CRIMINAL JUSTICE AND FIRE PROTECTION',\n",
       " 'CRIMINOLOGY',\n",
       " 'COMMUNICATION TECHNOLOGIES',\n",
       " 'TRANSPORTATION SCIENCES AND TECHNOLOGIES',\n",
       " 'NATURAL RESOURCES MANAGEMENT',\n",
       " 'ATMOSPHERIC SCIENCES AND METEOROLOGY',\n",
       " 'FORESTRY',\n",
       " 'SOIL SCIENCE',\n",
       " 'HISTORY',\n",
       " 'PHILOSOPHY AND RELIGIOUS STUDIES',\n",
       " 'FILM VIDEO AND PHOTOGRAPHIC ARTS',\n",
       " 'PLANT SCIENCE AND AGRONOMY',\n",
       " 'PHYSICAL AND HEALTH EDUCATION TEACHING',\n",
       " 'THEOLOGY AND RELIGIOUS VOCATIONS']"
      ]
     },
     "metadata": {},
     "output_type": "display_data"
    },
    {
     "name": "stdout",
     "output_type": "stream",
     "text": [
      "\n",
      "\n"
     ]
    },
    {
     "data": {
      "text/plain": [
       "['ASTRONOMY AND ASTROPHYSICS',\n",
       " 'PUBLIC POLICY',\n",
       " 'NURSING',\n",
       " 'NUCLEAR, INDUSTRIAL RADIOLOGY, AND BIOLOGICAL TECHNOLOGIES',\n",
       " 'ACCOUNTING',\n",
       " 'MEDICAL TECHNOLOGIES TECHNICIANS',\n",
       " 'STATISTICS AND DECISION SCIENCE',\n",
       " 'PHARMACOLOGY',\n",
       " 'OCEANOGRAPHY',\n",
       " 'MEDICAL ASSISTING SERVICES',\n",
       " 'COGNITIVE SCIENCE AND BIOPSYCHOLOGY',\n",
       " 'SCHOOL STUDENT COUNSELING',\n",
       " 'INTERNATIONAL RELATIONS',\n",
       " 'INTERNATIONAL BUSINESS',\n",
       " 'PHARMACY PHARMACEUTICAL SCIENCES AND ADMINISTRATION',\n",
       " 'MOLECULAR BIOLOGY',\n",
       " 'GENETICS',\n",
       " 'MISCELLANEOUS SOCIAL SCIENCES',\n",
       " 'INDUSTRIAL AND ORGANIZATIONAL PSYCHOLOGY',\n",
       " 'CHEMISTRY',\n",
       " 'MARKETING AND MARKETING RESEARCH',\n",
       " 'MICROBIOLOGY',\n",
       " 'BIOCHEMICAL SCIENCES',\n",
       " 'BOTANY',\n",
       " 'HUMAN RESOURCES AND PERSONNEL MANAGEMENT',\n",
       " 'PRE-LAW AND LEGAL STUDIES',\n",
       " 'MISCELLANEOUS HEALTH MEDICAL PROFESSIONS',\n",
       " 'GEOSCIENCES',\n",
       " 'SOCIAL PSYCHOLOGY',\n",
       " 'ENVIRONMENTAL SCIENCE',\n",
       " 'COMMUNICATIONS',\n",
       " 'COMMERCIAL ART AND GRAPHIC DESIGN',\n",
       " 'JOURNALISM',\n",
       " 'MULTI-DISCIPLINARY OR GENERAL SCIENCE',\n",
       " 'ADVERTISING AND PUBLIC RELATIONS',\n",
       " 'AREA ETHNIC AND CIVILIZATION STUDIES',\n",
       " 'SPECIAL NEEDS EDUCATION',\n",
       " 'PHYSIOLOGY',\n",
       " 'NUTRITION SCIENCES',\n",
       " 'HEALTH AND MEDICAL ADMINISTRATIVE SERVICES',\n",
       " 'NEUROSCIENCE',\n",
       " 'MULTI/INTERDISCIPLINARY STUDIES',\n",
       " 'GENERAL EDUCATION',\n",
       " 'FRENCH GERMAN LATIN AND OTHER COMMON FOREIGN LANGUAGE STUDIES',\n",
       " 'INTERCULTURAL AND INTERNATIONAL STUDIES',\n",
       " 'SOCIAL SCIENCE OR HISTORY TEACHER EDUCATION',\n",
       " 'COMMUNITY AND PUBLIC HEALTH',\n",
       " 'MATHEMATICS TEACHER EDUCATION',\n",
       " 'EDUCATIONAL ADMINISTRATION AND SUPERVISION',\n",
       " 'HEALTH AND MEDICAL PREPARATORY PROGRAMS',\n",
       " 'MISCELLANEOUS BIOLOGY',\n",
       " 'BIOLOGY',\n",
       " 'SOCIOLOGY',\n",
       " 'MASS MEDIA',\n",
       " 'TREATMENT THERAPY PROFESSIONS',\n",
       " 'HOSPITALITY MANAGEMENT',\n",
       " 'LANGUAGE AND DRAMA EDUCATION',\n",
       " 'LINGUISTICS AND COMPARATIVE LANGUAGE AND LITERATURE',\n",
       " 'MISCELLANEOUS EDUCATION',\n",
       " 'INTERDISCIPLINARY SOCIAL SCIENCES',\n",
       " 'ECOLOGY',\n",
       " 'SECONDARY TEACHER EDUCATION',\n",
       " 'GENERAL MEDICAL AND HEALTH SERVICES',\n",
       " 'ART AND MUSIC EDUCATION',\n",
       " 'ENGLISH LANGUAGE AND LITERATURE',\n",
       " 'ELEMENTARY EDUCATION',\n",
       " 'PHYSICAL FITNESS PARKS RECREATION AND LEISURE',\n",
       " 'LIBERAL ARTS',\n",
       " 'GENERAL SOCIAL SCIENCES',\n",
       " 'SCIENCE AND COMPUTER TEACHER EDUCATION',\n",
       " 'PSYCHOLOGY',\n",
       " 'MUSIC',\n",
       " 'ART HISTORY AND CRITICISM',\n",
       " 'FINE ARTS',\n",
       " 'FAMILY AND CONSUMER SCIENCES',\n",
       " 'SOCIAL WORK',\n",
       " 'ANIMAL SCIENCES',\n",
       " 'VISUAL AND PERFORMING ARTS',\n",
       " 'TEACHER EDUCATION: MULTIPLE LEVELS',\n",
       " 'MISCELLANEOUS PSYCHOLOGY',\n",
       " 'HUMAN SERVICES AND COMMUNITY ORGANIZATION',\n",
       " 'HUMANITIES',\n",
       " 'STUDIO ARTS',\n",
       " 'COSMETOLOGY SERVICES AND CULINARY ARTS',\n",
       " 'MISCELLANEOUS AGRICULTURE',\n",
       " 'ANTHROPOLOGY AND ARCHEOLOGY',\n",
       " 'COMMUNICATION DISORDERS SCIENCES AND SERVICES',\n",
       " 'EARLY CHILDHOOD EDUCATION',\n",
       " 'OTHER FOREIGN LANGUAGES',\n",
       " 'DRAMA AND THEATER ARTS',\n",
       " 'COMPOSITION AND RHETORIC',\n",
       " 'ZOOLOGY',\n",
       " 'EDUCATIONAL PSYCHOLOGY',\n",
       " 'CLINICAL PSYCHOLOGY',\n",
       " 'COUNSELING PSYCHOLOGY',\n",
       " 'LIBRARY SCIENCE']"
      ]
     },
     "metadata": {},
     "output_type": "display_data"
    }
   ],
   "source": [
    "major_males=[]\n",
    "major_females=[]\n",
    "for i, row in recent_grads.iterrows():\n",
    "    if row['Men']>row['Women']:\n",
    "        major_males.append(row['Major'])\n",
    "    elif row['Men']<row['Women']:\n",
    "        major_females.append(row['Major'])\n",
    "display(major_males)\n",
    "print('\\n')\n",
    "display(major_females)"
   ]
  },
  {
   "cell_type": "code",
   "execution_count": 87,
   "metadata": {},
   "outputs": [
    {
     "name": "stdout",
     "output_type": "stream",
     "text": [
      "76\n",
      "96\n"
     ]
    }
   ],
   "source": [
    "print(len(major_males))\n",
    "print(len(major_females))"
   ]
  },
  {
   "cell_type": "markdown",
   "metadata": {},
   "source": [
    "76 Majors are predominantly male while females dominate in 96 majors"
   ]
  },
  {
   "cell_type": "markdown",
   "metadata": {},
   "source": [
    "## Which category of majors have the most students?"
   ]
  },
  {
   "cell_type": "code",
   "execution_count": 90,
   "metadata": {},
   "outputs": [
    {
     "data": {
      "text/plain": [
       "Major_category\n",
       "Business                               1302376.0\n",
       "Humanities & Liberal Arts               713468.0\n",
       "Education                               559129.0\n",
       "Engineering                             537583.0\n",
       "Social Science                          529966.0\n",
       "Psychology & Social Work                481007.0\n",
       "Health                                  463230.0\n",
       "Biology & Life Science                  453862.0\n",
       "Communications & Journalism             392601.0\n",
       "Arts                                    357130.0\n",
       "Computers & Mathematics                 299008.0\n",
       "Industrial Arts & Consumer Services     229792.0\n",
       "Physical Sciences                       185479.0\n",
       "Law & Public Policy                     179107.0\n",
       "Agriculture & Natural Resources          75620.0\n",
       "Interdisciplinary                        12296.0\n",
       "Name: Total, dtype: float64"
      ]
     },
     "execution_count": 90,
     "metadata": {},
     "output_type": "execute_result"
    }
   ],
   "source": [
    "recent_grads.groupby('Major_category').sum().sort_values(by='Total',ascending=False)['Total']"
   ]
  },
  {
   "cell_type": "markdown",
   "metadata": {},
   "source": [
    "Business,Humanities & Liberal Arts seem to have the most number of students while Interdisciplianry, agriculture and natural resources,Law & Public Policy as well as physical sciences have the least number of students"
   ]
  },
  {
   "cell_type": "code",
   "execution_count": null,
   "metadata": {},
   "outputs": [],
   "source": []
  }
 ],
 "metadata": {
  "kernelspec": {
   "display_name": "Python 3",
   "language": "python",
   "name": "python3"
  },
  "language_info": {
   "codemirror_mode": {
    "name": "ipython",
    "version": 3
   },
   "file_extension": ".py",
   "mimetype": "text/x-python",
   "name": "python",
   "nbconvert_exporter": "python",
   "pygments_lexer": "ipython3",
   "version": "3.7.4"
  }
 },
 "nbformat": 4,
 "nbformat_minor": 2
}
